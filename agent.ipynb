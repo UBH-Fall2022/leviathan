{
 "cells": [
  {
   "cell_type": "markdown",
   "id": "2d75e9aa-448b-490b-a101-940dee47a2db",
   "metadata": {},
   "source": [
    "# Actor Critic Agent(s) for Resource Allocation\n",
    "- Tests with Gym first\n",
    "- https://pytorch.org/docs/stable/tensorboard.html"
   ]
  },
  {
   "cell_type": "code",
   "execution_count": 5,
   "id": "3eeca8d2-bb5d-47a6-8178-c2ff22bde6e9",
   "metadata": {},
   "outputs": [],
   "source": [
    "import numpy as np\n",
    "import matplotlib.pyplot as plt\n",
    "import torch\n",
    "import gym\n",
    "\n",
    "from torch.utils.tensorboard import SummaryWriter\n",
    "import torch.nn as nn\n",
    "import gym.spaces as spaces"
   ]
  },
  {
   "cell_type": "markdown",
   "id": "a74e82e3-2d8e-498a-b882-8b127807bd9a",
   "metadata": {},
   "source": [
    "## Actor-Critic\n",
    "- https://pytorch.org/docs/stable/generated/torch.nn.Sequential.html"
   ]
  },
  {
   "cell_type": "code",
   "execution_count": 7,
   "id": "71e9cf87-0919-4ffe-9d96-3b981a43d7cd",
   "metadata": {},
   "outputs": [],
   "source": [
    "NUM_HIDDEN_UNITS = 32"
   ]
  },
  {
   "cell_type": "code",
   "execution_count": 8,
   "id": "1bc04ae9-0403-4ba5-a05c-1a40015e1daf",
   "metadata": {},
   "outputs": [],
   "source": [
    "class ActorCritic(nn.Module):\n",
    "    def __init__(self, obs_shape, action_space, discrete=True):\n",
    "        super(ActorCritic, self).__init__()\n",
    "        \n",
    "        self.obs_shape = obs_shape\n",
    "        self.action_space = action_space\n",
    "        \n",
    "        self._is_discrete = discrete\n",
    "        self._num_inputs = obs_shape[0]\n",
    "        self._n_hidden = NUM_HIDDEN_UNITS\n",
    "        if discrete:\n",
    "            self._num_outputs = action_space.n\n",
    "        else:\n",
    "            self._num_outputs = action_space.shape[0]\n",
    "        \n",
    "        self.actor = nn.Sequential(\n",
    "            nn.Linear(self._num_inputs, self._n_hidden),\n",
    "            nn.Tanh(),\n",
    "            nn.Linear(self._n_hidden, self._n_hidden),\n",
    "            nn.Tanh(),\n",
    "            nn.Linear(self._n_hidden, self._num_outputs)\n",
    "        )\n",
    "        \n",
    "        self.critic = nn.Sequential(\n",
    "            nn.Linear(self._num_inputs, self._n_hidden),\n",
    "            nn.Tanh(),\n",
    "            nn.Linear(self._n_hidden, self._n_hidden),\n",
    "            nn.Tanh(),\n",
    "            nn.Linear(self._n_hidden, 1)\n",
    "        )\n",
    "        "
   ]
  },
  {
   "cell_type": "code",
   "execution_count": 9,
   "id": "4389d24a-f4bd-40be-b6fd-47c57b6c3e82",
   "metadata": {},
   "outputs": [
    {
     "data": {
      "text/plain": [
       "ActorCritic(\n",
       "  (actor): Sequential(\n",
       "    (0): Linear(in_features=3, out_features=32, bias=True)\n",
       "    (1): Tanh()\n",
       "    (2): Linear(in_features=32, out_features=32, bias=True)\n",
       "    (3): Tanh()\n",
       "    (4): Linear(in_features=32, out_features=5, bias=True)\n",
       "  )\n",
       "  (critic): Sequential(\n",
       "    (0): Linear(in_features=3, out_features=32, bias=True)\n",
       "    (1): Tanh()\n",
       "    (2): Linear(in_features=32, out_features=32, bias=True)\n",
       "    (3): Tanh()\n",
       "    (4): Linear(in_features=32, out_features=1, bias=True)\n",
       "  )\n",
       ")"
      ]
     },
     "execution_count": 9,
     "metadata": {},
     "output_type": "execute_result"
    }
   ],
   "source": [
    "ActorCritic((3, 1), spaces.Discrete(5))"
   ]
  },
  {
   "cell_type": "code",
   "execution_count": null,
   "id": "e1adf400-0209-47bd-b9d5-7a4e97a40f30",
   "metadata": {},
   "outputs": [],
   "source": []
  }
 ],
 "metadata": {
  "kernelspec": {
   "display_name": "Python 3 (ipykernel)",
   "language": "python",
   "name": "python3"
  },
  "language_info": {
   "codemirror_mode": {
    "name": "ipython",
    "version": 3
   },
   "file_extension": ".py",
   "mimetype": "text/x-python",
   "name": "python",
   "nbconvert_exporter": "python",
   "pygments_lexer": "ipython3",
   "version": "3.10.6"
  }
 },
 "nbformat": 4,
 "nbformat_minor": 5
}
